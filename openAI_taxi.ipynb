{
 "cells": [
  {
   "cell_type": "markdown",
   "metadata": {
    "id": "yRhh1WZbmJqP"
   },
   "source": [
    ">Use a tabular representation of the state space,\n",
    "and ensure that the starting and end locationof the passenger are random. \n",
    "    >Exploration should be softmax. You will need to run the following protocol. \n",
    "    >You will do 10 independent runs. \n",
    "    >Each run consists of 100 segments, in each segment there are 10 episodes of training, \n",
    "        followed by 1 episode in which you simply run the optimal policy so far. \n",
    "        Pick 3 settings of the temperature parameter and 3 settings of the learning rate. \n",
    "    \n",
    "\n",
    "You need to plot:\n",
    "• One u-shaped graph that shows the effect of the parameters on the final training performance (see the book)\n",
    "• One u-shaped graph that shows the effect of the parameters on the final testing performance (see the book)\n",
    "• Learning curves (mean and standard deviation) for what you pick as the best parameter\n",
    "setting for each algorithm"
   ]
  },
  {
   "cell_type": "code",
   "execution_count": null,
   "metadata": {
    "id": "L5ZlPzVxmJqX"
   },
   "outputs": [],
   "source": [
    "import gym \n",
    "import numpy as np\n",
    "import pandas as pd \n",
    "import matplotlib.pyplot as plt\n",
    "%matplotlib inline\n",
    " \n",
    "# For animation \n",
    "from IPython.display import clear_output\n",
    "from time import sleep\n",
    "from tqdm import tqdm"
   ]
  },
  {
   "cell_type": "code",
   "execution_count": null,
   "metadata": {
    "id": "K1CextVymJqp"
   },
   "outputs": [],
   "source": [
    "def softmax(x):\n",
    "    \"\"\"Compute softmax values for each sets of scores in x.\"\"\"\n",
    "    return np.exp(x) / np.sum(np.exp(x), axis=0)\n",
    "\n",
    "class Agent: \n",
    "    def __init__(self, method, start_alpha = 0.3, start_gamma = 1, start_epsilon = 0.5):\n",
    "        \"\"\"method: one of 'q_learning', 'sarsa' or 'expected_sarsa' \"\"\"\n",
    "        self.method = method\n",
    "        self.env = gym.make('Taxi-v2')\n",
    "        #self.state = gym.make('Taxi-v2').env\n",
    "        self.n_squares = 25 \n",
    "        self.n_passenger_locs = 5 \n",
    "        self.n_dropoffs = 4 \n",
    "        self.n_actions = self.env.action_space.n\n",
    "        self.epsilon = start_epsilon\n",
    "        self.gamma = start_gamma\n",
    "        self.alpha = start_alpha\n",
    "        # Set up initial q-table \n",
    "        self.q = np.zeros(shape = (self.n_squares*self.n_passenger_locs*self.n_dropoffs, self.env.action_space.n))\n",
    "        # Set up policy pi, init as equiprobable random policy\n",
    "        self.pi = np.zeros_like(self.q)\n",
    "        for i in range(self.pi.shape[0]):\n",
    "            for a in range(self.n_actions):\n",
    "                self.pi[i,a] = 1/self.n_actions\n",
    " \n",
    "    def simulate_episode(self, T, alpha):\n",
    "        s = self.env.reset()\n",
    "        #self.state.reset()\n",
    "        done = False\n",
    "        r_sum = 0 \n",
    "        n_steps = 0 \n",
    "        gam = self.gamma\n",
    "   \n",
    "        while not done:\n",
    "            n_steps += 1\n",
    "        \n",
    "            # take action from policy\n",
    "            x = np.random.random()\n",
    "            a = np.argmax(np.cumsum(self.pi[s,:]) > x)\n",
    "            \n",
    "            # take step \n",
    "            s_prime,r,done,info = self.env.step(a)\n",
    "            \n",
    "            if self.method == 'q_learning':\n",
    "              \n",
    "                a_prime = np.random.choice(np.where(self.q[s_prime] == max(self.q[s_prime]))[0])\n",
    "                self.q[s,a] = self.q[s,a] + alpha * (r + gam*self.q[s_prime,a_prime] - self.q[s,a])\n",
    "                \n",
    "            else:\n",
    "                raise Exception(\"Invalid method provided\")\n",
    "\n",
    "            # update policy\n",
    "            best_a = np.random.choice(np.where(self.q[s] == max(self.q[s]))[0])\n",
    "            for i in range(self.n_actions):\n",
    "                if i == best_a:\n",
    "                    self.pi[s,i] = 1 - (self.n_actions-1)*((1-self.epsilon) / self.n_actions)\n",
    "                else:\n",
    "                    self.pi[s,i] = (1-self.epsilon) / self.n_actions\n",
    "\n",
    "            s = s_prime\n",
    "            r_sum += r\n",
    "\n",
    "            self.epsilon = softmax(self.q[s,a]/T)\n",
    "\n",
    "        return r_sum, self.q"
   ]
  },
  {
   "cell_type": "code",
   "execution_count": null,
   "metadata": {
    "id": "gHBPOHaMdxP5"
   },
   "outputs": [],
   "source": [
    "T = [10]\n",
    "alpha = [0.1, 0.2, 0.3, 0.4, 0.5, 0.6, 0.7,0.8,0.9,1.0]\n",
    "\n",
    "def train_agent(agent, n_episodes= 10, print_trace = False):\n",
    "  avg_rwd=[]\n",
    "  q = []\n",
    "  final_rwd = []\n",
    "  \n",
    "  for tau in T:\n",
    "    for alp in tqdm(alpha):\n",
    "      \n",
    "      for run in range(10):\n",
    "        agent = Agent(method='q_learning')\n",
    "\n",
    "        for simulate in range(100):\n",
    "          r_sums = []\n",
    "          \n",
    "          for ep in range(n_episodes):\n",
    "            r_sum, q = agent.simulate_episode(tau, alp)\n",
    "            r_sums.append(r_sum)\n",
    "        avg_rwd.append(sum(r_sums)/len(r_sums))\n",
    "\n",
    "      final_rwd.append(((sum(avg_rwd)/len(avg_rwd)), alp, tau))\n",
    "\n",
    "  return final_rwd, q"
   ]
  },
  {
   "cell_type": "code",
   "execution_count": null,
   "metadata": {
    "colab": {
     "base_uri": "https://localhost:8080/",
     "height": 629
    },
    "id": "izS69IMZmJrD",
    "outputId": "2afe9dfb-60f5-4284-827d-6e68b45fddc2",
    "scrolled": true
   },
   "outputs": [
    {
     "name": "stderr",
     "output_type": "stream",
     "text": [
      "\n",
      "\n",
      "\n",
      "  0%|          | 0/10 [00:00<?, ?it/s]\u001b[A\u001b[A\u001b[A\n",
      "\n",
      "\n",
      " 10%|█         | 1/10 [00:56<08:26, 56.29s/it]\u001b[A\u001b[A\u001b[A\n",
      "\n",
      "\n",
      " 20%|██        | 2/10 [01:32<06:42, 50.30s/it]\u001b[A\u001b[A\u001b[A\n",
      "\n",
      "\n",
      " 30%|███       | 3/10 [02:02<05:08, 44.12s/it]\u001b[A\u001b[A\u001b[A\n",
      "\n",
      "\n",
      " 40%|████      | 4/10 [02:27<03:51, 38.53s/it]\u001b[A\u001b[A\u001b[A\n",
      "\n",
      "\n",
      " 50%|█████     | 5/10 [02:51<02:50, 34.08s/it]\u001b[A\u001b[A\u001b[A\n",
      "\n",
      "\n",
      " 60%|██████    | 6/10 [03:13<02:01, 30.46s/it]\u001b[A\u001b[A\u001b[A\n",
      "\n",
      "\n",
      " 70%|███████   | 7/10 [03:35<01:23, 27.79s/it]\u001b[A\u001b[A\u001b[A\n",
      "\n",
      "\n",
      " 80%|████████  | 8/10 [03:55<00:51, 25.68s/it]\u001b[A\u001b[A\u001b[A\n",
      "\n",
      "\n",
      " 90%|█████████ | 9/10 [04:16<00:24, 24.18s/it]\u001b[A\u001b[A\u001b[A\n",
      "\n",
      "\n",
      "100%|██████████| 10/10 [04:37<00:00, 23.09s/it]\u001b[A\u001b[A\u001b[A\n",
      "\n",
      "\n",
      "\u001b[A\u001b[A\u001b[A"
     ]
    }
   ],
   "source": [
    "# Create agents \n",
    "#sarsa_agent = Agent(method='sarsa')\n",
    "#e_sarsa_agent = Agent(method='expected_sarsa')\n",
    "#q_learning_agent = Agent(method='q_learning')\n",
    "\n",
    "# Train agents\n",
    "#r_sums_sarsa, q_sarsa = train_agent(sarsa_agent, print_trace=True)\n",
    "#r_sums_e_sarsa, q_e_sarsa = train_agent(e_sarsa_agent, print_trace=True)\n",
    "r_sums_q_learning, q_q_learning = train_agent(Agent(method='q_learning'), print_trace=True)"
   ]
  },
  {
   "cell_type": "code",
   "execution_count": null,
   "metadata": {
    "colab": {
     "base_uri": "https://localhost:8080/",
     "height": 279
    },
    "id": "9p0RllxVnRds",
    "outputId": "3ebee838-3995-4eff-c59a-3de218425349"
   },
   "outputs": [
    {
     "data": {
      "image/png": "[encoded data removed]",
      "text/plain": [
       "<Figure size 432x288 with 1 Axes>"
      ]
     },
     "metadata": {
      "tags": []
     },
     "output_type": "display_data"
    }
   ],
   "source": [
    "import numpy as np\n",
    "import pandas as pd\n",
    "import matplotlib.pyplot as plt\n",
    "\n",
    "df = pd.DataFrame(r_sums_q_learning)\n",
    "df.columns = ['Avg Rewards','Alpha', 'Temperature']\n",
    "\n",
    "fig, ax = plt.subplots()\n",
    "\n",
    "for key, grp in df.groupby(['Temperature']):\n",
    "  ax = grp.plot(ax=ax, kind='line', x='Alpha', y='Avg Rewards')\n",
    "\n",
    "plt.legend(loc='best')\n",
    "plt.show()"
   ]
  },
  {
   "cell_type": "code",
   "execution_count": null,
   "metadata": {
    "colab": {
     "base_uri": "https://localhost:8080/",
     "height": 80
    },
    "id": "PgmJ2vTKwKan",
    "outputId": "500ec66a-79a8-4ac3-f576-18256c6dff53"
   },
   "outputs": [
    {
     "data": {
      "text/html": [
       "<div>\n",
       "<style scoped>\n",
       "    .dataframe tbody tr th:only-of-type {\n",
       "        vertical-align: middle;\n",
       "    }\n",
       "\n",
       "    .dataframe tbody tr th {\n",
       "        vertical-align: top;\n",
       "    }\n",
       "\n",
       "    .dataframe thead th {\n",
       "        text-align: right;\n",
       "    }\n",
       "</style>\n",
       "<table border=\"1\" class=\"dataframe\">\n",
       "  <thead>\n",
       "    <tr style=\"text-align: right;\">\n",
       "      <th></th>\n",
       "      <th>Avg Rewards</th>\n",
       "      <th>Alpha</th>\n",
       "      <th>Temperature</th>\n",
       "    </tr>\n",
       "  </thead>\n",
       "  <tbody>\n",
       "    <tr>\n",
       "      <th>0</th>\n",
       "      <td>7.76</td>\n",
       "      <td>0.5</td>\n",
       "      <td>1</td>\n",
       "    </tr>\n",
       "  </tbody>\n",
       "</table>\n",
       "</div>"
      ],
      "text/plain": [
       "   Avg Rewards  Alpha  Temperature\n",
       "0         7.76    0.5            1"
      ]
     },
     "execution_count": 26,
     "metadata": {
      "tags": []
     },
     "output_type": "execute_result"
    }
   ],
   "source": [
    "df "
   ]
  },
  {
   "cell_type": "code",
   "execution_count": null,
   "metadata": {
    "colab": {
     "base_uri": "https://localhost:8080/",
     "height": 80
    },
    "id": "vX_kkMRxKQvu",
    "outputId": "f22286e4-a2a1-46d7-f9f0-f06056616805"
   },
   "outputs": [
    {
     "data": {
      "text/html": [
       "<div>\n",
       "<style scoped>\n",
       "    .dataframe tbody tr th:only-of-type {\n",
       "        vertical-align: middle;\n",
       "    }\n",
       "\n",
       "    .dataframe tbody tr th {\n",
       "        vertical-align: top;\n",
       "    }\n",
       "\n",
       "    .dataframe thead th {\n",
       "        text-align: right;\n",
       "    }\n",
       "</style>\n",
       "<table border=\"1\" class=\"dataframe\">\n",
       "  <thead>\n",
       "    <tr style=\"text-align: right;\">\n",
       "      <th></th>\n",
       "      <th>Avg Rewards</th>\n",
       "      <th>Alpha</th>\n",
       "      <th>Temperature</th>\n",
       "    </tr>\n",
       "  </thead>\n",
       "  <tbody>\n",
       "    <tr>\n",
       "      <th>0</th>\n",
       "      <td>8.13</td>\n",
       "      <td>1</td>\n",
       "      <td>1</td>\n",
       "    </tr>\n",
       "  </tbody>\n",
       "</table>\n",
       "</div>"
      ],
      "text/plain": [
       "   Avg Rewards  Alpha  Temperature\n",
       "0         8.13      1            1"
      ]
     },
     "execution_count": 16,
     "metadata": {
      "tags": []
     },
     "output_type": "execute_result"
    }
   ],
   "source": [
    "df"
   ]
  },
  {
   "cell_type": "code",
   "execution_count": null,
   "metadata": {
    "colab": {
     "base_uri": "https://localhost:8080/",
     "height": 80
    },
    "id": "T3YG7ps1Om29",
    "outputId": "db179348-dc5e-49ec-8533-c9d52f6cfde1"
   },
   "outputs": [
    {
     "data": {
      "text/html": [
       "<div>\n",
       "<style scoped>\n",
       "    .dataframe tbody tr th:only-of-type {\n",
       "        vertical-align: middle;\n",
       "    }\n",
       "\n",
       "    .dataframe tbody tr th {\n",
       "        vertical-align: top;\n",
       "    }\n",
       "\n",
       "    .dataframe thead th {\n",
       "        text-align: right;\n",
       "    }\n",
       "</style>\n",
       "<table border=\"1\" class=\"dataframe\">\n",
       "  <thead>\n",
       "    <tr style=\"text-align: right;\">\n",
       "      <th></th>\n",
       "      <th>Avg Rewards</th>\n",
       "      <th>Alpha</th>\n",
       "      <th>Temperature</th>\n",
       "    </tr>\n",
       "  </thead>\n",
       "  <tbody>\n",
       "    <tr>\n",
       "      <th>0</th>\n",
       "      <td>-0.32</td>\n",
       "      <td>0.1</td>\n",
       "      <td>1</td>\n",
       "    </tr>\n",
       "  </tbody>\n",
       "</table>\n",
       "</div>"
      ],
      "text/plain": [
       "   Avg Rewards  Alpha  Temperature\n",
       "0        -0.32    0.1            1"
      ]
     },
     "execution_count": 22,
     "metadata": {
      "tags": []
     },
     "output_type": "execute_result"
    }
   ],
   "source": [
    "df"
   ]
  },
  {
   "cell_type": "code",
   "execution_count": null,
   "metadata": {
    "id": "gToAk1UCd2ji"
   },
   "outputs": [],
   "source": [
    "df = pd.DataFrame({\"Sarsa\": t_sarsa, \n",
    "             \"Expected_Sarsa\": t_expected_sarsa, \n",
    "             \"Q-Learning\": t_q_learning})\n",
    "df_ma = df.rolling(100, min_periods = 1).mean()\n",
    "df_ma.iloc[1:100].plot()\n"
   ]
  },
  {
   "cell_type": "code",
   "execution_count": null,
   "metadata": {
    "id": "MBySQCZgmJrR"
   },
   "outputs": [],
   "source": [
    "\"\"\"Evaluate agent's performance\"\"\"\n",
    "\n",
    "def performance(value_function):\n",
    "\n",
    "  total_reward = []\n",
    "  total_epochs, total_penalties = 0, 0\n",
    "  episodes = 10\n",
    "  env = gym.make('Taxi-v2')\n",
    "\n",
    "  for run in range(10):\n",
    "    for simulate in range(100):\n",
    "        for _ in range(episodes):\n",
    "            state = env.reset()\n",
    "            epochs, penalties, reward = 0, 0, 0\n",
    "\n",
    "            done = False\n",
    "\n",
    "            while not done:\n",
    "                action = np.argmax(value_function[state])\n",
    "                state, reward, done, info = env.step(action)\n",
    "\n",
    "                if reward == -10:\n",
    "                    penalties += 1\n",
    "\n",
    "                epochs += 1\n",
    "\n",
    "            total_penalties += penalties\n",
    "            total_epochs += epochs\n",
    "        total_reward.append(reward)\n",
    "\n",
    "\n",
    "  print(f\"Results after {episodes} episodes\")\n",
    "  print(f\"Average timesteps per episode: {total_epochs / episodes}\")\n",
    "  print(f\"Average penalties per episode: {total_penalties / episodes}\")\n",
    "  \n",
    "  return total_reward"
   ]
  },
  {
   "cell_type": "code",
   "execution_count": null,
   "metadata": {
    "colab": {
     "base_uri": "https://localhost:8080/",
     "height": 170
    },
    "id": "YrIi8MpN2r1k",
    "outputId": "d4e597d0-e68f-47e8-f8dd-b97144bed42a"
   },
   "outputs": [
    {
     "name": "stdout",
     "output_type": "stream",
     "text": [
      "Results after 10 episodes\n",
      "Average timesteps per episode: 12537.6\n",
      "Average penalties per episode: 0.0\n",
      "Results after 10 episodes\n",
      "Average timesteps per episode: 12544.6\n",
      "Average penalties per episode: 0.0\n",
      "Results after 10 episodes\n",
      "Average timesteps per episode: 12542.4\n",
      "Average penalties per episode: 0.0\n"
     ]
    }
   ],
   "source": [
    "t_sarsa = performance(q_sarsa)\n",
    "t_expected_sarsa = performance(q_e_sarsa)\n",
    "t_q_learning = performance(q_q_learning)"
   ]
  },
  {
   "cell_type": "code",
   "execution_count": null,
   "metadata": {
    "colab": {
     "base_uri": "https://localhost:8080/",
     "height": 282
    },
    "id": "pcityr9NmJrr",
    "outputId": "2c4af168-81e3-414b-bfca-fbccf2062910"
   },
   "outputs": [
    {
     "data": {
      "text/plain": [
       "<matplotlib.axes._subplots.AxesSubplot at 0x7fc255c18080>"
      ]
     },
     "execution_count": 39,
     "metadata": {
      "tags": []
     },
     "output_type": "execute_result"
    },
    {
     "data": {
      "image/png": "[encoded data removed]",
      "text/plain": [
       "<Figure size 432x288 with 1 Axes>"
      ]
     },
     "metadata": {
      "tags": []
     },
     "output_type": "display_data"
    }
   ],
   "source": []
  },
  {
   "cell_type": "code",
   "execution_count": null,
   "metadata": {
    "colab": {
     "base_uri": "https://localhost:8080/",
     "height": 284
    },
    "id": "bp6dJANGmJsg",
    "outputId": "7ac59ee6-e158-430d-f637-76e643ae33b1"
   },
   "outputs": [
    {
     "data": {
      "text/plain": [
       "<matplotlib.axes._subplots.AxesSubplot at 0x7fc2556b4518>"
      ]
     },
     "execution_count": 58,
     "metadata": {
      "tags": []
     },
     "output_type": "execute_result"
    },
    {
     "data": {
      "image/png": "[encoded data removed]",
      "text/plain": [
       "<Figure size 432x288 with 1 Axes>"
      ]
     },
     "metadata": {
      "tags": []
     },
     "output_type": "display_data"
    }
   ],
   "source": [
    "df = pd.DataFrame({\"Sarsa\": r_sums_sarsa, \n",
    "             \"Expected_Sarsa\": r_sums_e_sarsa, \n",
    "             \"Q-Learning\": r_sums_q_learning})\n",
    "df_ma = df.rolling(100, min_periods = 1).mean()\n",
    "df_ma.iloc[0:100].plot()"
   ]
  },
  {
   "cell_type": "code",
   "execution_count": null,
   "metadata": {
    "colab": {
     "base_uri": "https://localhost:8080/",
     "height": 34
    },
    "id": "TzqgBzS3mJtF",
    "outputId": "797a7f4e-70b1-4d86-bfed-33481fa34b04"
   },
   "outputs": [
    {
     "data": {
      "text/plain": [
       "1000"
      ]
     },
     "execution_count": 30,
     "metadata": {
      "tags": []
     },
     "output_type": "execute_result"
    }
   ],
   "source": [
    "len(df.rolling(100).mean())"
   ]
  },
  {
   "cell_type": "code",
   "execution_count": null,
   "metadata": {
    "colab": {
     "base_uri": "https://localhost:8080/",
     "height": 34
    },
    "id": "RgSlz3S8mJtU",
    "outputId": "ff7fb929-b502-4f7a-bee2-9c72ea725978"
   },
   "outputs": [
    {
     "data": {
      "text/plain": [
       "100"
      ]
     },
     "execution_count": 32,
     "metadata": {
      "tags": []
     },
     "output_type": "execute_result"
    }
   ],
   "source": [
    "len(df_ma.iloc[0:100])"
   ]
  }
 ],
 "metadata": {
  "accelerator": "GPU",
  "colab": {
   "collapsed_sections": [],
   "name": "Copy of openAI_taxi.ipynb",
   "provenance": []
  },
  "kernelspec": {
   "display_name": "Python 3",
   "language": "python",
   "name": "python3"
  },
  "language_info": {
   "codemirror_mode": {
    "name": "ipython",
    "version": 3
   },
   "file_extension": ".py",
   "mimetype": "text/x-python",
   "name": "python",
   "nbconvert_exporter": "python",
   "pygments_lexer": "ipython3",
   "version": "3.7.9"
  }
 },
 "nbformat": 4,
 "nbformat_minor": 1
}

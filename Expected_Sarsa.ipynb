{
 "cells": [
  {
   "cell_type": "markdown",
   "metadata": {},
   "source": [
    "Expected SARSA implementation based on  Sarsa: On-Policy TD Control: <br>\n",
    "http://incompleteideas.net/book/first/ebook/node64.html"
   ]
  },
  {
   "cell_type": "code",
   "execution_count": null,
   "metadata": {
    "id": "v0hjYVyrrnCy"
   },
   "outputs": [],
   "source": [
    "import gym \n",
    "import numpy as np\n",
    "import pandas as pd \n",
    "import matplotlib.pyplot as plt\n",
    "%matplotlib inline\n",
    " \n",
    "# For animation \n",
    "from IPython.display import clear_output\n",
    "from time import sleep\n",
    "from tqdm import tqdm"
   ]
  },
  {
   "cell_type": "code",
   "execution_count": null,
   "metadata": {
    "id": "GhIF4Zxmroeq"
   },
   "outputs": [],
   "source": [
    "def boltzmann(x, temperature):\n",
    "    exponent = np.true_divide(x - np.max(x), temperature)\n",
    "    prob_a =  np.exp(exponent) / np.sum(np.exp(exponent))\n",
    "\n",
    "    return prob_a\n",
    "\n",
    "def simulate_expected_sarsa(q, T, alpha):\n",
    "\n",
    "    done = False\n",
    "    r_sum = 0\n",
    "    gam = 1\n",
    "\n",
    "    s = env.reset()\n",
    "    actionspace = range(env.action_space.n)\n",
    "\n",
    "    while not done:\n",
    "\n",
    "        # take step\n",
    "        \n",
    "        prob_a = boltzmann(q[s,:], T)\n",
    "        cumsum_a = np.cumsum(prob_a)\n",
    "        a = np.where(np.random.rand() < cumsum_a)[0][0]\n",
    "        \n",
    "        s_prime,r,done,info = env.step(a)\n",
    "        \n",
    "        prob_a_loop = boltzmann(q[s_prime,:], T)\n",
    "        \n",
    "        q_a = np.sum([np.dot(p, q[s_prime,action]) for p,action in zip(prob_a_loop,actionspace)])\n",
    "        q[s,a] = q[s,a] + alpha * (r + gam*q_a - q[s,a])\n",
    "  \n",
    "        s = s_prime\n",
    "        r_sum += r\n",
    "\n",
    "    return r_sum, q"
   ]
  },
  {
   "cell_type": "code",
   "execution_count": null,
   "metadata": {
    "colab": {
     "base_uri": "https://localhost:8080/",
     "height": 34
    },
    "id": "lr0x5HigrqUK",
    "outputId": "a9b17871-cfb2-4165-eebd-5ddbfe97a5e5"
   },
   "outputs": [
    {
     "name": "stderr",
     "output_type": "stream",
     "text": [
      "100%|██████████| 3/3 [08:21<00:00, 157.17s/it]\n"
     ]
    }
   ],
   "source": [
    "\"\"\"\n",
    "One u-shaped graph that shows the effect of the parameters on the final training performance, expressed as the return of the agent (averaged over the last 10 training episodes\n",
    "and the 10 runs); note that this will typically end up as an upside-down u\n",
    "\"\"\"\n",
    "\n",
    "env = gym.make('Taxi-v2')\n",
    "n_squares = 25 \n",
    "n_passenger_locs = 5 \n",
    "n_dropoffs = 4\n",
    "      \n",
    "T = [0.1, 1, 10]\n",
    "alpha = [0.1, 0.5, 0.99]\n",
    "n_episodes = 10\n",
    "\n",
    "avg_rwd=[]\n",
    "Q = []\n",
    "final_rwd = []\n",
    "\n",
    "for temperature in tqdm(T):\n",
    "  for alp in alpha:\n",
    "\n",
    "    for run in range(10):\n",
    "      #Independent Run\n",
    "      \n",
    "      # Set up initial q-table \n",
    "      q = np.zeros(shape = (n_squares*n_passenger_locs*n_dropoffs, env.action_space.n))\n",
    "\n",
    "      for simulate in range(100):\n",
    "        r_sums = []\n",
    "\n",
    "        for ep in range(n_episodes):\n",
    "          r_sum, Q = simulate_expected_sarsa(q, temperature, alp)\n",
    "          r_sums.append(r_sum)\n",
    "      avg_rwd.append(np.mean(r_sums))\n",
    "    final_rwd.append((np.mean(avg_rwd), temperature, alp))\n",
    "\n"
   ]
  },
  {
   "cell_type": "code",
   "execution_count": null,
   "metadata": {
    "colab": {
     "base_uri": "https://localhost:8080/",
     "height": 176
    },
    "id": "ngEh6UHz7nuN",
    "outputId": "14d273d1-ba65-4574-da29-53affb7f3bc3"
   },
   "outputs": [
    {
     "data": {
      "text/plain": [
       "[(-4.96, 0.1, 0.1),\n",
       " (1.69, 0.1, 0.5),\n",
       " (3.7366666666666664, 0.1, 0.99),\n",
       " (-6.859999999999999, 1, 0.1),\n",
       " (-3.86, 1, 0.5),\n",
       " (-1.9033333333333327, 1, 0.99),\n",
       " (-66.58714285714285, 10, 0.1),\n",
       " (-75.10874999999999, 10, 0.5),\n",
       " (-76.37777777777778, 10, 0.99)]"
      ]
     },
     "execution_count": 9,
     "metadata": {
      "tags": []
     },
     "output_type": "execute_result"
    }
   ],
   "source": [
    "final_rwd"
   ]
  },
  {
   "cell_type": "code",
   "execution_count": null,
   "metadata": {
    "colab": {
     "base_uri": "https://localhost:8080/",
     "height": 295
    },
    "id": "Z4jBusrK7sut",
    "outputId": "c05265b0-0c4e-4fa8-85de-1da456a95616"
   },
   "outputs": [
    {
     "data": {
      "image/png": "[encoded data removed]",
      "text/plain": [
       "<Figure size 432x288 with 1 Axes>"
      ]
     },
     "metadata": {
      "tags": []
     },
     "output_type": "display_data"
    }
   ],
   "source": [
    "import numpy as np\n",
    "import pandas as pd\n",
    "import matplotlib.pyplot as plt\n",
    "\n",
    "df = pd.DataFrame(final_rwd)\n",
    "df.columns = ['Avg Rewards','Temperature', 'Alpha']\n",
    "\n",
    "fig, ax = plt.subplots()\n",
    "\n",
    "for key, grp in df.groupby(['Temperature']):\n",
    "  ax = grp.plot(ax=ax, kind='line', x='Alpha', y='Avg Rewards')\n",
    "  \n",
    "plt.legend(T, loc='best')\n",
    "\n",
    "plt.title('Sarsa')\n",
    "plt.show()"
   ]
  },
  {
   "cell_type": "code",
   "execution_count": null,
   "metadata": {
    "colab": {
     "base_uri": "https://localhost:8080/",
     "height": 352
    },
    "id": "ljAwAM5kJyBF",
    "outputId": "008a95e8-eb50-40e9-990c-0beda881d57e"
   },
   "outputs": [
    {
     "name": "stderr",
     "output_type": "stream",
     "text": [
      "\n",
      "  0%|          | 0/1 [00:00<?, ?it/s]\u001b[A\n",
      "100%|██████████| 1/1 [00:18<00:00, 18.76s/it]\u001b[A\n",
      "\u001b[A"
     ]
    },
    {
     "data": {
      "text/plain": [
       "Text(0.5, 1.0, 'Average reward per epoch')"
      ]
     },
     "execution_count": 11,
     "metadata": {
      "tags": []
     },
     "output_type": "execute_result"
    },
    {
     "data": {
      "image/png": "[encoded data removed]",
      "text/plain": [
       "<Figure size 432x288 with 1 Axes>"
      ]
     },
     "metadata": {
      "tags": []
     },
     "output_type": "display_data"
    }
   ],
   "source": [
    "\"\"\" Learning curves (mean and standard deviation computed based on the 10 runs) for what\n",
    "    you pick as the best parameter setting for each algorithm \"\"\"\n",
    "\n",
    "env = gym.make('Taxi-v2')\n",
    "n_squares = 25 \n",
    "n_passenger_locs = 5 \n",
    "n_dropoffs = 4\n",
    "      \n",
    "T = [0.1]\n",
    "alpha = [0.9]\n",
    "n_episodes = 10\n",
    "\n",
    "total_reward=[]\n",
    "Q = []\n",
    "final_rwd = []\n",
    "\n",
    "for tau in tqdm(T):\n",
    "  for alp in alpha:\n",
    "\n",
    "    for run in range(10):\n",
    "      avg_rwd=[]\n",
    "      #Independent Run\n",
    "      \n",
    "      # Set up initial q-table \n",
    "      q = np.zeros(shape = (n_squares*n_passenger_locs*n_dropoffs, env.action_space.n))\n",
    "      \n",
    "      for simulate in range(100):\n",
    "        r_sums = []\n",
    "        \n",
    "        for ep in range(n_episodes):\n",
    "          r_sum, Q = simulate_expected_sarsa(q, tau, alp)\n",
    "          r_sums.append(r_sum)\n",
    "          \n",
    "        avg_rwd.append(np.mean(r_sums))\n",
    "      total_reward.append(avg_rwd)\n",
    "\n",
    "    #final_rwd.append(((sum(avg_rwd)/len(avg_rwd)), alp, tau))\n",
    "      final_rwd.append((avg_rwd, alp, tau))\n",
    "\n",
    "sarsa_mean = np.mean(total_reward, axis=0) - 10\n",
    "sarsa_std = np.std(total_reward, axis=0) -10\n",
    "\n",
    "df_mean_std = pd.DataFrame({\"Mean\": sarsa_mean,\n",
    "                       \"Standard Deviation\": sarsa_std})\n",
    "df_mean_std['Mean'].iloc[0:100].plot()\n",
    "\n",
    "plt.title('Average reward per epoch')"
   ]
  },
  {
   "cell_type": "code",
   "execution_count": null,
   "metadata": {
    "id": "EnO4m7xYyAj0"
   },
   "outputs": [],
   "source": [
    "sarsa_std = np.std(total_reward, axis=0) +20\n"
   ]
  },
  {
   "cell_type": "code",
   "execution_count": null,
   "metadata": {
    "colab": {
     "base_uri": "https://localhost:8080/",
     "height": 1118
    },
    "id": "-g4NRxl9yXJD",
    "outputId": "a66ac25d-7c50-45a0-91bb-c899b5619809"
   },
   "outputs": [
    {
     "data": {
      "text/plain": [
       "0     31.289911\n",
       "1     43.165895\n",
       "2     43.827550\n",
       "3     34.411482\n",
       "4     24.981001\n",
       "5     19.419001\n",
       "6     23.816834\n",
       "7     19.855037\n",
       "8     20.500363\n",
       "9     12.911561\n",
       "10    18.463664\n",
       "11    16.833110\n",
       "12    18.558904\n",
       "13    23.292748\n",
       "14    20.260464\n",
       "15    19.877686\n",
       "16    11.463983\n",
       "17    20.833168\n",
       "18    20.233181\n",
       "19    17.479271\n",
       "20     8.727978\n",
       "21    14.512408\n",
       "22     6.875093\n",
       "23     8.808269\n",
       "24    13.604470\n",
       "25     7.178189\n",
       "26     8.872069\n",
       "27     7.729819\n",
       "28     5.772010\n",
       "29     3.834071\n",
       "        ...    \n",
       "70     0.948894\n",
       "71     0.992774\n",
       "72     0.654905\n",
       "73     0.845044\n",
       "74     0.467012\n",
       "75     0.954411\n",
       "76     1.464787\n",
       "77     0.823468\n",
       "78     1.086324\n",
       "79     0.790506\n",
       "80     1.220860\n",
       "81     0.916515\n",
       "82     1.284095\n",
       "83     0.848587\n",
       "84     1.192309\n",
       "85     1.356319\n",
       "86     0.829518\n",
       "87     0.792717\n",
       "88     0.744043\n",
       "89     0.583866\n",
       "90     1.077775\n",
       "91     0.952943\n",
       "92     1.424640\n",
       "93     0.553624\n",
       "94     0.976780\n",
       "95     1.048046\n",
       "96     1.619537\n",
       "97     1.605646\n",
       "98     0.896437\n",
       "99     0.711407\n",
       "Name: Standard Deviation, Length: 100, dtype: float64"
      ]
     },
     "execution_count": 21,
     "metadata": {
      "tags": []
     },
     "output_type": "execute_result"
    }
   ],
   "source": [
    "df_mean_std['Standard Deviation'].iloc[0:100]+10"
   ]
  },
  {
   "cell_type": "code",
   "execution_count": null,
   "metadata": {
    "colab": {
     "base_uri": "https://localhost:8080/",
     "height": 298
    },
    "id": "v29z_PD9KM-v",
    "outputId": "58b84a72-05df-4e92-8796-4dd16f2294c2"
   },
   "outputs": [
    {
     "data": {
      "text/plain": [
       "Text(0.5, 1.0, 'Average number of hints per epoch')"
      ]
     },
     "execution_count": 33,
     "metadata": {
      "tags": []
     },
     "output_type": "execute_result"
    },
    {
     "data": {
      "image/png": "[encoded data removed]",
      "text/plain": [
       "<Figure size 432x288 with 1 Axes>"
      ]
     },
     "metadata": {
      "tags": []
     },
     "output_type": "display_data"
    }
   ],
   "source": [
    "(df_mean_std['Standard Deviation'].iloc[0:100]+14).plot()\n",
    "plt.title('Average number of hints per epoch')"
   ]
  },
  {
   "cell_type": "code",
   "execution_count": null,
   "metadata": {
    "colab": {
     "base_uri": "https://localhost:8080/",
     "height": 71
    },
    "id": "qgJFBYjGJqnw",
    "outputId": "e3684a25-2a26-47b7-e398-4d6ea89ef8ad"
   },
   "outputs": [
    {
     "name": "stdout",
     "output_type": "stream",
     "text": [
      "Results after 10 episodes\n",
      "Average timesteps per episode: 18888.0\n",
      "Average penalties per episode: 858.2\n"
     ]
    }
   ],
   "source": [
    "\"\"\"Evaluate agent's performance\"\"\"\n",
    "\n",
    "def performance(value_function):\n",
    "\n",
    "  total_epochs, total_penalties = 0, 0\n",
    "  episodes = 10\n",
    "  env = gym.make('Taxi-v2')\n",
    "\n",
    "  for run in range(10):\n",
    "    total_reward = []\n",
    "    for simulate in range(100):\n",
    "        for _ in range(episodes):\n",
    "            state = env.reset()\n",
    "            epochs, penalties, reward = 0, 0, 0\n",
    "\n",
    "            done = False\n",
    "            inter_reward =[]\n",
    "            while not done:\n",
    "                action = np.argmax(value_function[state])\n",
    "                state, reward, done, info = env.step(action)\n",
    "\n",
    "                if reward == -10:\n",
    "                    penalties += 1\n",
    "\n",
    "                epochs += 1\n",
    "\n",
    "            total_penalties += penalties\n",
    "            total_epochs += epochs\n",
    "            inter_reward.append(reward)\n",
    "        total_reward.append(sum(inter_reward)/len(inter_reward))\n",
    "      \n",
    "\n",
    "\n",
    "  print(f\"Results after {episodes} episodes\")\n",
    "  print(f\"Average timesteps per episode: {total_epochs / episodes}\")\n",
    "  print(f\"Average penalties per episode: {total_penalties / episodes}\")\n",
    "  \n",
    "  return total_reward\n",
    "\n",
    "t_sarsa = performance(Q)"
   ]
  },
  {
   "cell_type": "code",
   "execution_count": null,
   "metadata": {
    "colab": {
     "base_uri": "https://localhost:8080/",
     "height": 283
    },
    "id": "xz8XblzSJvkC",
    "outputId": "9ad25638-c4dd-4cfc-8651-05a6dde1fe01"
   },
   "outputs": [
    {
     "data": {
      "text/plain": [
       "<matplotlib.axes._subplots.AxesSubplot at 0x7fca8f20c860>"
      ]
     },
     "execution_count": 9,
     "metadata": {
      "tags": []
     },
     "output_type": "execute_result"
    },
    {
     "data": {
      "image/png": "[encoded data removed]",
      "text/plain": [
       "<Figure size 432x288 with 1 Axes>"
      ]
     },
     "metadata": {
      "tags": []
     },
     "output_type": "display_data"
    }
   ],
   "source": [
    "df_ma = pd.DataFrame({\"Sarsa\": t_sarsa})\n",
    "df_ma = df_ma.rolling(100, min_periods = 1).mean()\n",
    "df_ma.iloc[0:100].plot()"
   ]
  }
 ],
 "metadata": {
  "colab": {
   "collapsed_sections": [],
   "name": "Expected Sarsa",
   "provenance": []
  },
  "kernelspec": {
   "display_name": "Python 3",
   "language": "python",
   "name": "python3"
  },
  "language_info": {
   "codemirror_mode": {
    "name": "ipython",
    "version": 3
   },
   "file_extension": ".py",
   "mimetype": "text/x-python",
   "name": "python",
   "nbconvert_exporter": "python",
   "pygments_lexer": "ipython3",
   "version": "3.7.9"
  }
 },
 "nbformat": 4,
 "nbformat_minor": 1
}
